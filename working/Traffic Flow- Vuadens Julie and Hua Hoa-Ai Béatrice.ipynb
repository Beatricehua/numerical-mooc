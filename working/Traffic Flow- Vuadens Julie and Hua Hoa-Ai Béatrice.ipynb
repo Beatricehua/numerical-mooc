{
 "cells": [
  {
   "cell_type": "markdown",
   "metadata": {
    "collapsed": false
   },
   "source": [
    "# Voici notre travail sur le module2"
   ]
  },
  {
   "cell_type": "markdown",
   "metadata": {},
   "source": [
    "## Programme :"
   ]
  },
  {
   "cell_type": "code",
   "execution_count": 1,
   "metadata": {
    "collapsed": true
   },
   "outputs": [],
   "source": [
    "import  numpy\n",
    "import  sympy\n",
    "from matplotlib import pyplot\n",
    "%matplotlib inline\n",
    "from sympy import init_printing\n",
    "init_printing()"
   ]
  },
  {
   "cell_type": "markdown",
   "metadata": {},
   "source": [
    "Nous commençons par importer les librairies nécessaires et nous définissons les conditions initiales imposées dans le devoir. NB: Nous laisson $nt=1$, ce qui correspond à la distribution de voiture en $t=0.0 s$ ( nous changerons la valeur de nt pour répondre aux questions )"
   ]
  },
  {
   "cell_type": "code",
   "execution_count": 2,
   "metadata": {
    "collapsed": true
   },
   "outputs": [],
   "source": [
    "vmax = 80.0\n",
    "L=11.0\n",
    "rhomax = 250.0\n",
    "nx = 51\n",
    "dt = 0.001\n",
    "dx=L/(nx-1)\n",
    "nt = 1"
   ]
  },
  {
   "cell_type": "markdown",
   "metadata": {},
   "source": [
    "Nous imposons des conditions initiales sur la densité de voiture au temps $t=0$"
   ]
  },
  {
   "cell_type": "code",
   "execution_count": 3,
   "metadata": {
    "collapsed": true
   },
   "outputs": [],
   "source": [
    "x = numpy.linspace(0,L,nx)\n",
    "rho0 = numpy.ones(nx)*10\n",
    "rho0[10:20] = 50"
   ]
  },
  {
   "cell_type": "markdown",
   "metadata": {},
   "source": [
    "Nous dessinons un premier graphique représentant la situation initiale de la densité en fonction de la distance."
   ]
  },
  {
   "cell_type": "code",
   "execution_count": 4,
   "metadata": {
    "collapsed": false
   },
   "outputs": [
    {
     "data": {
      "image/png": "[encoded data removed]",
      "text/plain": [
       "<matplotlib.figure.Figure at 0x714e0f0>"
      ]
     },
     "metadata": {},
     "output_type": "display_data"
    }
   ],
   "source": [
    "pyplot.plot(x, rho0, color='#003366', ls='--', lw=3)\n",
    "pyplot.ylim(0,60);"
   ]
  },
  {
   "cell_type": "markdown",
   "metadata": {},
   "source": [
    "A prèsent, nous appliquons la méthode de discrétisation de $\\rho$ afin d'étudier son comportement au cours du temps. Nous partons de l'équation $$\\frac{\\delta \\rho}{\\delta t}+\\frac{\\delta F}{\\delta x}=0$$\n",
    "avec $F=V_{max}\\rho(1-\\frac{\\rho}{\\rho_{max}})$  \n"
   ]
  },
  {
   "cell_type": "code",
   "execution_count": 5,
   "metadata": {
    "collapsed": false
   },
   "outputs": [],
   "source": [
    "for n in range (1,nt):\n",
    "    rho_n=rho0.copy()\n",
    "    rho0[1:]=rho_n[1:] - dt/dx*vmax*(rho_n[1:] - ((rho_n[1:])**2/rhomax) - rho_n[:-1] + ((rho_n[:-1])**2/rhomax))"
   ]
  },
  {
   "cell_type": "markdown",
   "metadata": {
    "collapsed": false
   },
   "source": [
    "Nous redessinons le graphique après discrètisation de la densité en fonction de la distance sur le tronçon."
   ]
  },
  {
   "cell_type": "code",
   "execution_count": 6,
   "metadata": {
    "collapsed": false
   },
   "outputs": [
    {
     "data": {
      "image/png": "[encoded data removed]",
      "text/plain": [
       "<matplotlib.figure.Figure at 0x723bf30>"
      ]
     },
     "metadata": {},
     "output_type": "display_data"
    }
   ],
   "source": [
    "pyplot.plot(x, rho0, color='#003366', ls='--', lw=3)\n",
    "pyplot.ylim(0,60);"
   ]
  },
  {
   "cell_type": "markdown",
   "metadata": {},
   "source": [
    "Nous observons qu'en augmentant la valeur de $nt$ (correspondant au nombre de pas de temps ), le pic tend à se déplacer vers la droite et à s'arrondir, ce qui concorde avec nos prévisions: le traffic se fluidifie, le bouchon se déplace sur le tronçon en s'atténuant puisque les voitures avancent au fur et à mesure. "
   ]
  },
  {
   "cell_type": "code",
   "execution_count": 7,
   "metadata": {
    "collapsed": false
   },
   "outputs": [
    {
     "name": "stdout",
     "output_type": "stream",
     "text": [
      "[ 76.8  76.8  76.8  76.8  76.8  76.8  76.8  76.8  76.8  76.8  64.   64.\n",
      "  64.   64.   64.   64.   64.   64.   64.   64.   76.8  76.8  76.8  76.8\n",
      "  76.8  76.8  76.8  76.8  76.8  76.8  76.8  76.8  76.8  76.8  76.8  76.8\n",
      "  76.8  76.8  76.8  76.8  76.8  76.8  76.8  76.8  76.8  76.8  76.8  76.8\n",
      "  76.8  76.8  76.8]\n"
     ]
    }
   ],
   "source": [
    "v=vmax*(1-rho0/rhomax)\n",
    "print v"
   ]
  },
  {
   "cell_type": "markdown",
   "metadata": {},
   "source": [
    "Nous dessinons les graphiques de la vitesse et le flux de traffic en fonction de la distance."
   ]
  },
  {
   "cell_type": "code",
   "execution_count": 8,
   "metadata": {
    "collapsed": false
   },
   "outputs": [
    {
     "data": {
      "image/png": "[encoded data removed]",
      "text/plain": [
       "<matplotlib.figure.Figure at 0x743daf0>"
      ]
     },
     "metadata": {},
     "output_type": "display_data"
    }
   ],
   "source": [
    "pyplot.plot(x, v, ls='--', lw=3)\n",
    "pyplot.ylim(50,100);"
   ]
  },
  {
   "cell_type": "markdown",
   "metadata": {},
   "source": [
    "Le graphique nous parait cohérent. En effet, au bonchon( pic en densité), la vitesse est au minimum."
   ]
  },
  {
   "cell_type": "code",
   "execution_count": 14,
   "metadata": {
    "collapsed": false
   },
   "outputs": [
    {
     "name": "stdout",
     "output_type": "stream",
     "text": [
      "[  768.   768.   768.   768.   768.   768.   768.   768.   768.   768.\n",
      "  3200.  3200.  3200.  3200.  3200.  3200.  3200.  3200.  3200.  3200.\n",
      "   768.   768.   768.   768.   768.   768.   768.   768.   768.   768.\n",
      "   768.   768.   768.   768.   768.   768.   768.   768.   768.   768.\n",
      "   768.   768.   768.   768.   768.   768.   768.   768.   768.   768.\n",
      "   768.]\n"
     ]
    },
    {
     "data": {
      "image/png": "[encoded data removed]",
      "text/latex": [
       "$$\\left ( 700, \\quad 3500\\right )$$"
      ],
      "text/plain": [
       "(700, 3500)"
      ]
     },
     "execution_count": 14,
     "metadata": {},
     "output_type": "execute_result"
    },
    {
     "data": {
      "image/png": "[encoded data removed]",
      "text/plain": [
       "<matplotlib.figure.Figure at 0x86b8df0>"
      ]
     },
     "metadata": {},
     "output_type": "display_data"
    }
   ],
   "source": [
    "F=v*rho0\n",
    "print F\n",
    "pyplot.plot(x, F, ls='--', lw=3)\n",
    "pyplot.ylim(700,3500)"
   ]
  },
  {
   "cell_type": "markdown",
   "metadata": {
    "collapsed": true
   },
   "source": [
    "Le graphique met bien en évidence que le flux sera très élevé à l'endroit du bouchon. En effet, le regroupement des voitures augmente le flux à travers le segment embouteillé.\n",
    "Il nous suffit à présent de faire varier le nombre de pas $nt$ afin de voir l'évolution temporelle du traffic sur le tronçon et nous observons que tout concorde bien avec nos prévisions de l'atténuation et l'avancement du bouchon au cours du temps ainsi que ses conséquences sur la vitesse et le flux."
   ]
  },
  {
   "cell_type": "markdown",
   "metadata": {
    "collapsed": true
   },
   "source": [
    "## Résultats: Part A"
   ]
  },
  {
   "cell_type": "markdown",
   "metadata": {
    "collapsed": true
   },
   "source": [
    "***Notre programme répond aux conditions initiales imposées dans cette partie ***"
   ]
  },
  {
   "cell_type": "markdown",
   "metadata": {},
   "source": [
    "* **1°)** Enter the *minimum* velocity at time $t = 0$ in meters per second. Round to 2 decimal places"
   ]
  },
  {
   "cell_type": "code",
   "execution_count": 86,
   "metadata": {
    "collapsed": false
   },
   "outputs": [
    {
     "name": "stdout",
     "output_type": "stream",
     "text": [
      "[ 21.33333333  21.33333333  21.33333333  21.33333333  21.33333333\n",
      "  21.33333333  21.33333333  21.33333333  21.33333333  21.33333333\n",
      "  17.77777778  17.77777778  17.77777778  17.77777778  17.77777778\n",
      "  17.77777778  17.77777778  17.77777778  17.77777778  17.77777778\n",
      "  21.33333333  21.33333333  21.33333333  21.33333333  21.33333333\n",
      "  21.33333333  21.33333333  21.33333333  21.33333333  21.33333333\n",
      "  21.33333333  21.33333333  21.33333333  21.33333333  21.33333333\n",
      "  21.33333333  21.33333333  21.33333333  21.33333333  21.33333333\n",
      "  21.33333333  21.33333333  21.33333333  21.33333333  21.33333333\n",
      "  21.33333333  21.33333333  21.33333333  21.33333333  21.33333333\n",
      "  21.33333333]\n"
     ]
    }
   ],
   "source": [
    "print v*1000/3600"
   ]
  },
  {
   "cell_type": "markdown",
   "metadata": {},
   "source": [
    "Nous recherchons la plus petite valeur: $v_{min,0}= 17.77 \\frac{m}{s}$"
   ]
  },
  {
   "cell_type": "markdown",
   "metadata": {},
   "source": [
    "* **2°)** Enter the average velocity at time $t = 3 minutes$ in meters per second. Round to 2 decimal places"
   ]
  },
  {
   "cell_type": "markdown",
   "metadata": {},
   "source": [
    "Pour obtenir les valeurs des vitesses à $3min$,imposons au programme d'effectuer l nombre de pas suffisant pour atteindre $180s$ sachant qu'un pas est de $3.6s$ et que nous commmençons avec un temps initial $t=0$. Donc, $nt=50$"
   ]
  },
  {
   "cell_type": "code",
   "execution_count": 95,
   "metadata": {
    "collapsed": false
   },
   "outputs": [
    {
     "name": "stdout",
     "output_type": "stream",
     "text": [
      "20.6361659024\n"
     ]
    }
   ],
   "source": [
    "print (sum(v)/len(v))*1000/3600 "
   ]
  },
  {
   "cell_type": "markdown",
   "metadata": {},
   "source": [
    "$v_{average,3min}= 20.64 \\frac{m}{s}$"
   ]
  },
  {
   "cell_type": "markdown",
   "metadata": {},
   "source": [
    "* **3°)** Enter the *minimum* velocity at time $t = 6 minutes$ in meters per second. Round to 2 decimal places"
   ]
  },
  {
   "cell_type": "code",
   "execution_count": 76,
   "metadata": {
    "collapsed": false
   },
   "outputs": [
    {
     "name": "stdout",
     "output_type": "stream",
     "text": [
      "[ 21.33333333  21.33333333  21.33333333  21.33333333  21.33333333\n",
      "  21.33333333  21.33333333  21.33333333  21.33333333  21.33333333\n",
      "  21.33333333  21.33333333  21.33333333  21.33333333  21.33333333\n",
      "  21.33333333  21.33333333  21.33333333  21.33333332  21.33333326\n",
      "  21.33333297  21.33333175  21.33332708  21.3333107   21.33325769\n",
      "  21.33309844  21.33265229  21.33148076  21.32858519  21.32182395\n",
      "  21.30686891  21.27550783  21.21330114  21.09746577  20.89809162\n",
      "  20.58894926  20.17210175  19.70202075  19.2734885   18.96726656\n",
      "  18.80873334  18.77665161  18.83413482  18.94870585  19.09755033\n",
      "  19.26599828  19.44476503  19.6277845   19.81083002  19.99070943\n",
      "  20.16481793]\n"
     ]
    }
   ],
   "source": [
    "print v*1000/3600"
   ]
  },
  {
   "cell_type": "markdown",
   "metadata": {},
   "source": [
    "Nous recherchons la plus petite valeur: $v_{min,6min}=18.77 \\frac{m}{s}$"
   ]
  },
  {
   "cell_type": "markdown",
   "metadata": {},
   "source": [
    "## Part B:"
   ]
  },
  {
   "cell_type": "markdown",
   "metadata": {},
   "source": [
    "*Now, set $Vmax=136km/hr$ and repeat the simulation using the following initial conditions for traffic density:\n",
    "x = numpy.linspace(0,L,nx)<br />$\\rho_0$ = numpy.ones(nx)20<br />$\\rho_0$[10:20] = 50<br />and the following boundary condition:<br />$ρ$(0,t)=20*"
   ]
  },
  {
   "cell_type": "markdown",
   "metadata": {},
   "source": [
    "* **1°)** Enter the *minimum* velocity at time $t = 0$ in meters per second. Round to 2 decimal places"
   ]
  },
  {
   "cell_type": "code",
   "execution_count": 113,
   "metadata": {
    "collapsed": false
   },
   "outputs": [
    {
     "name": "stdout",
     "output_type": "stream",
     "text": [
      "[ 34.75555556  34.75555556  34.75555556  34.75555556  34.75555556\n",
      "  34.75555556  34.75555556  34.75555556  34.75555556  34.75555556\n",
      "  30.22222222  30.22222222  30.22222222  30.22222222  30.22222222\n",
      "  30.22222222  30.22222222  30.22222222  30.22222222  30.22222222\n",
      "  34.75555556  34.75555556  34.75555556  34.75555556  34.75555556\n",
      "  34.75555556  34.75555556  34.75555556  34.75555556  34.75555556\n",
      "  34.75555556  34.75555556  34.75555556  34.75555556  34.75555556\n",
      "  34.75555556  34.75555556  34.75555556  34.75555556  34.75555556\n",
      "  34.75555556  34.75555556  34.75555556  34.75555556  34.75555556\n",
      "  34.75555556  34.75555556  34.75555556  34.75555556  34.75555556\n",
      "  34.75555556]\n"
     ]
    }
   ],
   "source": [
    "print v*1000/3600"
   ]
  },
  {
   "cell_type": "markdown",
   "metadata": {},
   "source": [
    "$v_{min,0}=30.22 \\frac{m}{s}$"
   ]
  },
  {
   "cell_type": "markdown",
   "metadata": {},
   "source": [
    "* **2°)** Enter the average velocity at time $t = 3 minutes$ in meters per second. Round to 2 decimal places"
   ]
  },
  {
   "cell_type": "code",
   "execution_count": 122,
   "metadata": {
    "collapsed": false
   },
   "outputs": [
    {
     "name": "stdout",
     "output_type": "stream",
     "text": [
      "33.8704871068\n"
     ]
    }
   ],
   "source": [
    "print (sum(v)/len(v))*1000/3600"
   ]
  },
  {
   "cell_type": "markdown",
   "metadata": {},
   "source": [
    "$v_{average,3min}=33.87 \\frac{m}{s}$"
   ]
  },
  {
   "cell_type": "markdown",
   "metadata": {},
   "source": [
    "* **3°)**  Enter the *minimum* velocity at time $t = 3 minutes$ in meters per second. Round to 2 decimal places"
   ]
  },
  {
   "cell_type": "code",
   "execution_count": 124,
   "metadata": {
    "collapsed": false
   },
   "outputs": [
    {
     "name": "stdout",
     "output_type": "stream",
     "text": [
      "[ 34.75555556  34.75555556  34.75555556  34.75555556  34.75555556\n",
      "  34.75555556  34.75555556  34.75555556  34.75555556  34.75555556\n",
      "  34.75555556  34.75555556  34.75555556  34.75555556  34.75555556\n",
      "  34.75555555  34.75555551  34.75555524  34.75555364  34.75554547\n",
      "  34.75550874  34.75536137  34.75482956  34.75308981  34.7478953\n",
      "  34.73365927  34.69771224  34.61408646  34.43621326  34.09734816\n",
      "  33.54070289  32.79233905  32.00965538  31.394533    31.04764899\n",
      "  30.94620364  31.01915973  31.20319222  31.45580859  31.75046808\n",
      "  32.0698843   32.40158108  32.73547411  33.06266178  33.37488518\n",
      "  33.66440729  33.92422532  34.14857795  34.33366147  34.47835193\n",
      "  34.58461757]\n"
     ]
    }
   ],
   "source": [
    "print v*1000/3600"
   ]
  },
  {
   "cell_type": "markdown",
   "metadata": {},
   "source": [
    "$v_{min,3min}=30.95 \\frac{m}{s}$"
   ]
  },
  {
   "cell_type": "markdown",
   "metadata": {
    "collapsed": true
   },
   "source": [
    "# Fin du travail."
   ]
  },
  {
   "cell_type": "code",
   "execution_count": null,
   "metadata": {
    "collapsed": true
   },
   "outputs": [],
   "source": []
  }
 ],
 "metadata": {
  "anaconda-cloud": {},
  "kernelspec": {
   "display_name": "Python [Root]",
   "language": "python",
   "name": "Python [Root]"
  },
  "language_info": {
   "codemirror_mode": {
    "name": "ipython",
    "version": 2
   },
   "file_extension": ".py",
   "mimetype": "text/x-python",
   "name": "python",
   "nbconvert_exporter": "python",
   "pygments_lexer": "ipython2",
   "version": "2.7.12"
  }
 },
 "nbformat": 4,
 "nbformat_minor": 0
}
